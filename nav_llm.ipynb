{
 "cells": [
  {
   "cell_type": "code",
   "execution_count": 1,
   "id": "926c7605",
   "metadata": {},
   "outputs": [
    {
     "name": "stderr",
     "output_type": "stream",
     "text": [
      "c:\\anaconda\\envs\\delivery\\lib\\site-packages\\tqdm\\auto.py:21: TqdmWarning: IProgress not found. Please update jupyter and ipywidgets. See https://ipywidgets.readthedocs.io/en/stable/user_install.html\n",
      "  from .autonotebook import tqdm as notebook_tqdm\n"
     ]
    }
   ],
   "source": [
    "from simworld.config import Config\n",
    "from communicator.nav_communicator import nav_communicator\n",
    "from manager.task_manager import TaskManager\n",
    "from communicator.nav_unrealcv import NavUnrealCV"
   ]
  },
  {
   "cell_type": "code",
   "execution_count": null,
   "id": "87ca650f",
   "metadata": {},
   "outputs": [],
   "source": [
    "import os"
   ]
  },
  {
   "cell_type": "code",
   "execution_count": 3,
   "id": "0bf08a3d",
   "metadata": {},
   "outputs": [
    {
     "name": "stderr",
     "output_type": "stream",
     "text": [
      "INFO:__init__:230:Got connection confirm: b'connected to gym_citynav'\n"
     ]
    },
    {
     "name": "stdout",
     "output_type": "stream",
     "text": [
      "=>Info: using ip-port socket\n"
     ]
    }
   ],
   "source": [
    "config = Config(r'C:\\SimLLM-Nav\\nav\\configs\\navllm_config.yaml')\n",
    "communicator = nav_communicator(NavUnrealCV())\n",
    "# traffic_controller = TrafficController(config)\n",
    "# traffic_controller.init_communicator(communicator)\n",
    "# task_manager = TaskManager(config, communicator, traffic_controller)\n",
    "task_manager = TaskManager(config, communicator)"
   ]
  },
  {
   "cell_type": "code",
   "execution_count": 4,
   "id": "17ae8e47",
   "metadata": {},
   "outputs": [],
   "source": [
    "task_manager.create_world()"
   ]
  },
  {
   "cell_type": "code",
   "execution_count": 5,
   "id": "7cc24084",
   "metadata": {},
   "outputs": [],
   "source": [
    "task_manager.load_agent()"
   ]
  },
  {
   "cell_type": "code",
   "execution_count": null,
   "id": "d1b7e897",
   "metadata": {},
   "outputs": [],
   "source": []
  }
 ],
 "metadata": {
  "kernelspec": {
   "display_name": "delivery",
   "language": "python",
   "name": "python3"
  },
  "language_info": {
   "codemirror_mode": {
    "name": "ipython",
    "version": 3
   },
   "file_extension": ".py",
   "mimetype": "text/x-python",
   "name": "python",
   "nbconvert_exporter": "python",
   "pygments_lexer": "ipython3",
   "version": "3.10.16"
  }
 },
 "nbformat": 4,
 "nbformat_minor": 5
}
